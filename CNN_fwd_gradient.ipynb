{
  "nbformat": 4,
  "nbformat_minor": 0,
  "metadata": {
    "colab": {
      "provenance": []
    },
    "kernelspec": {
      "name": "python3",
      "display_name": "Python 3"
    },
    "language_info": {
      "name": "python"
    },
    "accelerator": "GPU",
    "gpuClass": "standard",
    "widgets": {
      "application/vnd.jupyter.widget-state+json": {
        "77c4a074ff824e1c963013d58b6307f2": {
          "model_module": "@jupyter-widgets/controls",
          "model_name": "HBoxModel",
          "model_module_version": "1.5.0",
          "state": {
            "_dom_classes": [],
            "_model_module": "@jupyter-widgets/controls",
            "_model_module_version": "1.5.0",
            "_model_name": "HBoxModel",
            "_view_count": null,
            "_view_module": "@jupyter-widgets/controls",
            "_view_module_version": "1.5.0",
            "_view_name": "HBoxView",
            "box_style": "",
            "children": [
              "IPY_MODEL_3dcbb15cb4dc4b10bcabcfffa9973185",
              "IPY_MODEL_598f66674f064b86b2e5aa8cea8b110a",
              "IPY_MODEL_14b313ddb78340a88bb31f413621506e"
            ],
            "layout": "IPY_MODEL_ab0fb2fc3d914b58921a7cbb54eca9db"
          }
        },
        "3dcbb15cb4dc4b10bcabcfffa9973185": {
          "model_module": "@jupyter-widgets/controls",
          "model_name": "HTMLModel",
          "model_module_version": "1.5.0",
          "state": {
            "_dom_classes": [],
            "_model_module": "@jupyter-widgets/controls",
            "_model_module_version": "1.5.0",
            "_model_name": "HTMLModel",
            "_view_count": null,
            "_view_module": "@jupyter-widgets/controls",
            "_view_module_version": "1.5.0",
            "_view_name": "HTMLView",
            "description": "",
            "description_tooltip": null,
            "layout": "IPY_MODEL_577794f9cc754b22b44eaec2576343df",
            "placeholder": "​",
            "style": "IPY_MODEL_e1a50f84c6ee4514baf3eca043a68060",
            "value": "100%"
          }
        },
        "598f66674f064b86b2e5aa8cea8b110a": {
          "model_module": "@jupyter-widgets/controls",
          "model_name": "FloatProgressModel",
          "model_module_version": "1.5.0",
          "state": {
            "_dom_classes": [],
            "_model_module": "@jupyter-widgets/controls",
            "_model_module_version": "1.5.0",
            "_model_name": "FloatProgressModel",
            "_view_count": null,
            "_view_module": "@jupyter-widgets/controls",
            "_view_module_version": "1.5.0",
            "_view_name": "ProgressView",
            "bar_style": "success",
            "description": "",
            "description_tooltip": null,
            "layout": "IPY_MODEL_363c8cbba87b42a59f6cac1705f1e2cb",
            "max": 18165135,
            "min": 0,
            "orientation": "horizontal",
            "style": "IPY_MODEL_c49af0ac98614218ac79eb6d84fe4c57",
            "value": 18165135
          }
        },
        "14b313ddb78340a88bb31f413621506e": {
          "model_module": "@jupyter-widgets/controls",
          "model_name": "HTMLModel",
          "model_module_version": "1.5.0",
          "state": {
            "_dom_classes": [],
            "_model_module": "@jupyter-widgets/controls",
            "_model_module_version": "1.5.0",
            "_model_name": "HTMLModel",
            "_view_count": null,
            "_view_module": "@jupyter-widgets/controls",
            "_view_module_version": "1.5.0",
            "_view_name": "HTMLView",
            "description": "",
            "description_tooltip": null,
            "layout": "IPY_MODEL_022b34c4b09744d08f842f8795cc743e",
            "placeholder": "​",
            "style": "IPY_MODEL_076066a49f7440b6a7ca946ef84a708a",
            "value": " 18165135/18165135 [00:16&lt;00:00, 1424122.03it/s]"
          }
        },
        "ab0fb2fc3d914b58921a7cbb54eca9db": {
          "model_module": "@jupyter-widgets/base",
          "model_name": "LayoutModel",
          "model_module_version": "1.2.0",
          "state": {
            "_model_module": "@jupyter-widgets/base",
            "_model_module_version": "1.2.0",
            "_model_name": "LayoutModel",
            "_view_count": null,
            "_view_module": "@jupyter-widgets/base",
            "_view_module_version": "1.2.0",
            "_view_name": "LayoutView",
            "align_content": null,
            "align_items": null,
            "align_self": null,
            "border": null,
            "bottom": null,
            "display": null,
            "flex": null,
            "flex_flow": null,
            "grid_area": null,
            "grid_auto_columns": null,
            "grid_auto_flow": null,
            "grid_auto_rows": null,
            "grid_column": null,
            "grid_gap": null,
            "grid_row": null,
            "grid_template_areas": null,
            "grid_template_columns": null,
            "grid_template_rows": null,
            "height": null,
            "justify_content": null,
            "justify_items": null,
            "left": null,
            "margin": null,
            "max_height": null,
            "max_width": null,
            "min_height": null,
            "min_width": null,
            "object_fit": null,
            "object_position": null,
            "order": null,
            "overflow": null,
            "overflow_x": null,
            "overflow_y": null,
            "padding": null,
            "right": null,
            "top": null,
            "visibility": null,
            "width": null
          }
        },
        "577794f9cc754b22b44eaec2576343df": {
          "model_module": "@jupyter-widgets/base",
          "model_name": "LayoutModel",
          "model_module_version": "1.2.0",
          "state": {
            "_model_module": "@jupyter-widgets/base",
            "_model_module_version": "1.2.0",
            "_model_name": "LayoutModel",
            "_view_count": null,
            "_view_module": "@jupyter-widgets/base",
            "_view_module_version": "1.2.0",
            "_view_name": "LayoutView",
            "align_content": null,
            "align_items": null,
            "align_self": null,
            "border": null,
            "bottom": null,
            "display": null,
            "flex": null,
            "flex_flow": null,
            "grid_area": null,
            "grid_auto_columns": null,
            "grid_auto_flow": null,
            "grid_auto_rows": null,
            "grid_column": null,
            "grid_gap": null,
            "grid_row": null,
            "grid_template_areas": null,
            "grid_template_columns": null,
            "grid_template_rows": null,
            "height": null,
            "justify_content": null,
            "justify_items": null,
            "left": null,
            "margin": null,
            "max_height": null,
            "max_width": null,
            "min_height": null,
            "min_width": null,
            "object_fit": null,
            "object_position": null,
            "order": null,
            "overflow": null,
            "overflow_x": null,
            "overflow_y": null,
            "padding": null,
            "right": null,
            "top": null,
            "visibility": null,
            "width": null
          }
        },
        "e1a50f84c6ee4514baf3eca043a68060": {
          "model_module": "@jupyter-widgets/controls",
          "model_name": "DescriptionStyleModel",
          "model_module_version": "1.5.0",
          "state": {
            "_model_module": "@jupyter-widgets/controls",
            "_model_module_version": "1.5.0",
            "_model_name": "DescriptionStyleModel",
            "_view_count": null,
            "_view_module": "@jupyter-widgets/base",
            "_view_module_version": "1.2.0",
            "_view_name": "StyleView",
            "description_width": ""
          }
        },
        "363c8cbba87b42a59f6cac1705f1e2cb": {
          "model_module": "@jupyter-widgets/base",
          "model_name": "LayoutModel",
          "model_module_version": "1.2.0",
          "state": {
            "_model_module": "@jupyter-widgets/base",
            "_model_module_version": "1.2.0",
            "_model_name": "LayoutModel",
            "_view_count": null,
            "_view_module": "@jupyter-widgets/base",
            "_view_module_version": "1.2.0",
            "_view_name": "LayoutView",
            "align_content": null,
            "align_items": null,
            "align_self": null,
            "border": null,
            "bottom": null,
            "display": null,
            "flex": null,
            "flex_flow": null,
            "grid_area": null,
            "grid_auto_columns": null,
            "grid_auto_flow": null,
            "grid_auto_rows": null,
            "grid_column": null,
            "grid_gap": null,
            "grid_row": null,
            "grid_template_areas": null,
            "grid_template_columns": null,
            "grid_template_rows": null,
            "height": null,
            "justify_content": null,
            "justify_items": null,
            "left": null,
            "margin": null,
            "max_height": null,
            "max_width": null,
            "min_height": null,
            "min_width": null,
            "object_fit": null,
            "object_position": null,
            "order": null,
            "overflow": null,
            "overflow_x": null,
            "overflow_y": null,
            "padding": null,
            "right": null,
            "top": null,
            "visibility": null,
            "width": null
          }
        },
        "c49af0ac98614218ac79eb6d84fe4c57": {
          "model_module": "@jupyter-widgets/controls",
          "model_name": "ProgressStyleModel",
          "model_module_version": "1.5.0",
          "state": {
            "_model_module": "@jupyter-widgets/controls",
            "_model_module_version": "1.5.0",
            "_model_name": "ProgressStyleModel",
            "_view_count": null,
            "_view_module": "@jupyter-widgets/base",
            "_view_module_version": "1.2.0",
            "_view_name": "StyleView",
            "bar_color": null,
            "description_width": ""
          }
        },
        "022b34c4b09744d08f842f8795cc743e": {
          "model_module": "@jupyter-widgets/base",
          "model_name": "LayoutModel",
          "model_module_version": "1.2.0",
          "state": {
            "_model_module": "@jupyter-widgets/base",
            "_model_module_version": "1.2.0",
            "_model_name": "LayoutModel",
            "_view_count": null,
            "_view_module": "@jupyter-widgets/base",
            "_view_module_version": "1.2.0",
            "_view_name": "LayoutView",
            "align_content": null,
            "align_items": null,
            "align_self": null,
            "border": null,
            "bottom": null,
            "display": null,
            "flex": null,
            "flex_flow": null,
            "grid_area": null,
            "grid_auto_columns": null,
            "grid_auto_flow": null,
            "grid_auto_rows": null,
            "grid_column": null,
            "grid_gap": null,
            "grid_row": null,
            "grid_template_areas": null,
            "grid_template_columns": null,
            "grid_template_rows": null,
            "height": null,
            "justify_content": null,
            "justify_items": null,
            "left": null,
            "margin": null,
            "max_height": null,
            "max_width": null,
            "min_height": null,
            "min_width": null,
            "object_fit": null,
            "object_position": null,
            "order": null,
            "overflow": null,
            "overflow_x": null,
            "overflow_y": null,
            "padding": null,
            "right": null,
            "top": null,
            "visibility": null,
            "width": null
          }
        },
        "076066a49f7440b6a7ca946ef84a708a": {
          "model_module": "@jupyter-widgets/controls",
          "model_name": "DescriptionStyleModel",
          "model_module_version": "1.5.0",
          "state": {
            "_model_module": "@jupyter-widgets/controls",
            "_model_module_version": "1.5.0",
            "_model_name": "DescriptionStyleModel",
            "_view_count": null,
            "_view_module": "@jupyter-widgets/base",
            "_view_module_version": "1.2.0",
            "_view_name": "StyleView",
            "description_width": ""
          }
        },
        "de4d577f419c467ba41c35dd4b36419c": {
          "model_module": "@jupyter-widgets/controls",
          "model_name": "HBoxModel",
          "model_module_version": "1.5.0",
          "state": {
            "_dom_classes": [],
            "_model_module": "@jupyter-widgets/controls",
            "_model_module_version": "1.5.0",
            "_model_name": "HBoxModel",
            "_view_count": null,
            "_view_module": "@jupyter-widgets/controls",
            "_view_module_version": "1.5.0",
            "_view_name": "HBoxView",
            "box_style": "",
            "children": [
              "IPY_MODEL_5abc4574bd9e4ce3857b22475d80dcfc",
              "IPY_MODEL_fbd64e23c2e54e709a85d69d5721a98f",
              "IPY_MODEL_35cb54541c3e43a78dcddd6d96e2753c"
            ],
            "layout": "IPY_MODEL_7b7aa71ce78048eca8496f0439953b3b"
          }
        },
        "5abc4574bd9e4ce3857b22475d80dcfc": {
          "model_module": "@jupyter-widgets/controls",
          "model_name": "HTMLModel",
          "model_module_version": "1.5.0",
          "state": {
            "_dom_classes": [],
            "_model_module": "@jupyter-widgets/controls",
            "_model_module_version": "1.5.0",
            "_model_name": "HTMLModel",
            "_view_count": null,
            "_view_module": "@jupyter-widgets/controls",
            "_view_module_version": "1.5.0",
            "_view_name": "HTMLView",
            "description": "",
            "description_tooltip": null,
            "layout": "IPY_MODEL_8a951518f1d24326b5c91217aec9f289",
            "placeholder": "​",
            "style": "IPY_MODEL_e1d348771cd34616ba944b695e21ce62",
            "value": "100%"
          }
        },
        "fbd64e23c2e54e709a85d69d5721a98f": {
          "model_module": "@jupyter-widgets/controls",
          "model_name": "FloatProgressModel",
          "model_module_version": "1.5.0",
          "state": {
            "_dom_classes": [],
            "_model_module": "@jupyter-widgets/controls",
            "_model_module_version": "1.5.0",
            "_model_name": "FloatProgressModel",
            "_view_count": null,
            "_view_module": "@jupyter-widgets/controls",
            "_view_module_version": "1.5.0",
            "_view_name": "ProgressView",
            "bar_style": "success",
            "description": "",
            "description_tooltip": null,
            "layout": "IPY_MODEL_1b1a92bcac644c54b725f70d96f52549",
            "max": 29497,
            "min": 0,
            "orientation": "horizontal",
            "style": "IPY_MODEL_3a8d54d2b4c2487786b85cf67314b42c",
            "value": 29497
          }
        },
        "35cb54541c3e43a78dcddd6d96e2753c": {
          "model_module": "@jupyter-widgets/controls",
          "model_name": "HTMLModel",
          "model_module_version": "1.5.0",
          "state": {
            "_dom_classes": [],
            "_model_module": "@jupyter-widgets/controls",
            "_model_module_version": "1.5.0",
            "_model_name": "HTMLModel",
            "_view_count": null,
            "_view_module": "@jupyter-widgets/controls",
            "_view_module_version": "1.5.0",
            "_view_name": "HTMLView",
            "description": "",
            "description_tooltip": null,
            "layout": "IPY_MODEL_835d9bfb9791437785bd1b37bb62f12e",
            "placeholder": "​",
            "style": "IPY_MODEL_fafce1a2ba4e45039d109b5d42f72c88",
            "value": " 29497/29497 [00:00&lt;00:00, 197807.33it/s]"
          }
        },
        "7b7aa71ce78048eca8496f0439953b3b": {
          "model_module": "@jupyter-widgets/base",
          "model_name": "LayoutModel",
          "model_module_version": "1.2.0",
          "state": {
            "_model_module": "@jupyter-widgets/base",
            "_model_module_version": "1.2.0",
            "_model_name": "LayoutModel",
            "_view_count": null,
            "_view_module": "@jupyter-widgets/base",
            "_view_module_version": "1.2.0",
            "_view_name": "LayoutView",
            "align_content": null,
            "align_items": null,
            "align_self": null,
            "border": null,
            "bottom": null,
            "display": null,
            "flex": null,
            "flex_flow": null,
            "grid_area": null,
            "grid_auto_columns": null,
            "grid_auto_flow": null,
            "grid_auto_rows": null,
            "grid_column": null,
            "grid_gap": null,
            "grid_row": null,
            "grid_template_areas": null,
            "grid_template_columns": null,
            "grid_template_rows": null,
            "height": null,
            "justify_content": null,
            "justify_items": null,
            "left": null,
            "margin": null,
            "max_height": null,
            "max_width": null,
            "min_height": null,
            "min_width": null,
            "object_fit": null,
            "object_position": null,
            "order": null,
            "overflow": null,
            "overflow_x": null,
            "overflow_y": null,
            "padding": null,
            "right": null,
            "top": null,
            "visibility": null,
            "width": null
          }
        },
        "8a951518f1d24326b5c91217aec9f289": {
          "model_module": "@jupyter-widgets/base",
          "model_name": "LayoutModel",
          "model_module_version": "1.2.0",
          "state": {
            "_model_module": "@jupyter-widgets/base",
            "_model_module_version": "1.2.0",
            "_model_name": "LayoutModel",
            "_view_count": null,
            "_view_module": "@jupyter-widgets/base",
            "_view_module_version": "1.2.0",
            "_view_name": "LayoutView",
            "align_content": null,
            "align_items": null,
            "align_self": null,
            "border": null,
            "bottom": null,
            "display": null,
            "flex": null,
            "flex_flow": null,
            "grid_area": null,
            "grid_auto_columns": null,
            "grid_auto_flow": null,
            "grid_auto_rows": null,
            "grid_column": null,
            "grid_gap": null,
            "grid_row": null,
            "grid_template_areas": null,
            "grid_template_columns": null,
            "grid_template_rows": null,
            "height": null,
            "justify_content": null,
            "justify_items": null,
            "left": null,
            "margin": null,
            "max_height": null,
            "max_width": null,
            "min_height": null,
            "min_width": null,
            "object_fit": null,
            "object_position": null,
            "order": null,
            "overflow": null,
            "overflow_x": null,
            "overflow_y": null,
            "padding": null,
            "right": null,
            "top": null,
            "visibility": null,
            "width": null
          }
        },
        "e1d348771cd34616ba944b695e21ce62": {
          "model_module": "@jupyter-widgets/controls",
          "model_name": "DescriptionStyleModel",
          "model_module_version": "1.5.0",
          "state": {
            "_model_module": "@jupyter-widgets/controls",
            "_model_module_version": "1.5.0",
            "_model_name": "DescriptionStyleModel",
            "_view_count": null,
            "_view_module": "@jupyter-widgets/base",
            "_view_module_version": "1.2.0",
            "_view_name": "StyleView",
            "description_width": ""
          }
        },
        "1b1a92bcac644c54b725f70d96f52549": {
          "model_module": "@jupyter-widgets/base",
          "model_name": "LayoutModel",
          "model_module_version": "1.2.0",
          "state": {
            "_model_module": "@jupyter-widgets/base",
            "_model_module_version": "1.2.0",
            "_model_name": "LayoutModel",
            "_view_count": null,
            "_view_module": "@jupyter-widgets/base",
            "_view_module_version": "1.2.0",
            "_view_name": "LayoutView",
            "align_content": null,
            "align_items": null,
            "align_self": null,
            "border": null,
            "bottom": null,
            "display": null,
            "flex": null,
            "flex_flow": null,
            "grid_area": null,
            "grid_auto_columns": null,
            "grid_auto_flow": null,
            "grid_auto_rows": null,
            "grid_column": null,
            "grid_gap": null,
            "grid_row": null,
            "grid_template_areas": null,
            "grid_template_columns": null,
            "grid_template_rows": null,
            "height": null,
            "justify_content": null,
            "justify_items": null,
            "left": null,
            "margin": null,
            "max_height": null,
            "max_width": null,
            "min_height": null,
            "min_width": null,
            "object_fit": null,
            "object_position": null,
            "order": null,
            "overflow": null,
            "overflow_x": null,
            "overflow_y": null,
            "padding": null,
            "right": null,
            "top": null,
            "visibility": null,
            "width": null
          }
        },
        "3a8d54d2b4c2487786b85cf67314b42c": {
          "model_module": "@jupyter-widgets/controls",
          "model_name": "ProgressStyleModel",
          "model_module_version": "1.5.0",
          "state": {
            "_model_module": "@jupyter-widgets/controls",
            "_model_module_version": "1.5.0",
            "_model_name": "ProgressStyleModel",
            "_view_count": null,
            "_view_module": "@jupyter-widgets/base",
            "_view_module_version": "1.2.0",
            "_view_name": "StyleView",
            "bar_color": null,
            "description_width": ""
          }
        },
        "835d9bfb9791437785bd1b37bb62f12e": {
          "model_module": "@jupyter-widgets/base",
          "model_name": "LayoutModel",
          "model_module_version": "1.2.0",
          "state": {
            "_model_module": "@jupyter-widgets/base",
            "_model_module_version": "1.2.0",
            "_model_name": "LayoutModel",
            "_view_count": null,
            "_view_module": "@jupyter-widgets/base",
            "_view_module_version": "1.2.0",
            "_view_name": "LayoutView",
            "align_content": null,
            "align_items": null,
            "align_self": null,
            "border": null,
            "bottom": null,
            "display": null,
            "flex": null,
            "flex_flow": null,
            "grid_area": null,
            "grid_auto_columns": null,
            "grid_auto_flow": null,
            "grid_auto_rows": null,
            "grid_column": null,
            "grid_gap": null,
            "grid_row": null,
            "grid_template_areas": null,
            "grid_template_columns": null,
            "grid_template_rows": null,
            "height": null,
            "justify_content": null,
            "justify_items": null,
            "left": null,
            "margin": null,
            "max_height": null,
            "max_width": null,
            "min_height": null,
            "min_width": null,
            "object_fit": null,
            "object_position": null,
            "order": null,
            "overflow": null,
            "overflow_x": null,
            "overflow_y": null,
            "padding": null,
            "right": null,
            "top": null,
            "visibility": null,
            "width": null
          }
        },
        "fafce1a2ba4e45039d109b5d42f72c88": {
          "model_module": "@jupyter-widgets/controls",
          "model_name": "DescriptionStyleModel",
          "model_module_version": "1.5.0",
          "state": {
            "_model_module": "@jupyter-widgets/controls",
            "_model_module_version": "1.5.0",
            "_model_name": "DescriptionStyleModel",
            "_view_count": null,
            "_view_module": "@jupyter-widgets/base",
            "_view_module_version": "1.2.0",
            "_view_name": "StyleView",
            "description_width": ""
          }
        },
        "e1f1dcd453b14804a5186c32253201f6": {
          "model_module": "@jupyter-widgets/controls",
          "model_name": "HBoxModel",
          "model_module_version": "1.5.0",
          "state": {
            "_dom_classes": [],
            "_model_module": "@jupyter-widgets/controls",
            "_model_module_version": "1.5.0",
            "_model_name": "HBoxModel",
            "_view_count": null,
            "_view_module": "@jupyter-widgets/controls",
            "_view_module_version": "1.5.0",
            "_view_name": "HBoxView",
            "box_style": "",
            "children": [
              "IPY_MODEL_f2f52fafec8d43b5804c3350d8916cba",
              "IPY_MODEL_47d749b61fd74e2fa1fec2797c234b02",
              "IPY_MODEL_653b3feb41514bc4887ebe9cfcbcda52"
            ],
            "layout": "IPY_MODEL_80a32b2adfb74bb59c174ba038569a7a"
          }
        },
        "f2f52fafec8d43b5804c3350d8916cba": {
          "model_module": "@jupyter-widgets/controls",
          "model_name": "HTMLModel",
          "model_module_version": "1.5.0",
          "state": {
            "_dom_classes": [],
            "_model_module": "@jupyter-widgets/controls",
            "_model_module_version": "1.5.0",
            "_model_name": "HTMLModel",
            "_view_count": null,
            "_view_module": "@jupyter-widgets/controls",
            "_view_module_version": "1.5.0",
            "_view_name": "HTMLView",
            "description": "",
            "description_tooltip": null,
            "layout": "IPY_MODEL_6fcf03feab034ae0b164b416b65cbd61",
            "placeholder": "​",
            "style": "IPY_MODEL_17aea16a95f742f4aec1442b936ce8f5",
            "value": "100%"
          }
        },
        "47d749b61fd74e2fa1fec2797c234b02": {
          "model_module": "@jupyter-widgets/controls",
          "model_name": "FloatProgressModel",
          "model_module_version": "1.5.0",
          "state": {
            "_dom_classes": [],
            "_model_module": "@jupyter-widgets/controls",
            "_model_module_version": "1.5.0",
            "_model_name": "FloatProgressModel",
            "_view_count": null,
            "_view_module": "@jupyter-widgets/controls",
            "_view_module_version": "1.5.0",
            "_view_name": "ProgressView",
            "bar_style": "success",
            "description": "",
            "description_tooltip": null,
            "layout": "IPY_MODEL_c218ae289c834280a327ec5a6cf84432",
            "max": 3041136,
            "min": 0,
            "orientation": "horizontal",
            "style": "IPY_MODEL_e8bc049c349c47ecb287e921970df1c7",
            "value": 3041136
          }
        },
        "653b3feb41514bc4887ebe9cfcbcda52": {
          "model_module": "@jupyter-widgets/controls",
          "model_name": "HTMLModel",
          "model_module_version": "1.5.0",
          "state": {
            "_dom_classes": [],
            "_model_module": "@jupyter-widgets/controls",
            "_model_module_version": "1.5.0",
            "_model_name": "HTMLModel",
            "_view_count": null,
            "_view_module": "@jupyter-widgets/controls",
            "_view_module_version": "1.5.0",
            "_view_name": "HTMLView",
            "description": "",
            "description_tooltip": null,
            "layout": "IPY_MODEL_23b2e87fdbce4720a3c55e6b7a0cb87c",
            "placeholder": "​",
            "style": "IPY_MODEL_ed0a82f9a2784eb68ccc352a283a7ec7",
            "value": " 3041136/3041136 [00:03&lt;00:00, 1188798.92it/s]"
          }
        },
        "80a32b2adfb74bb59c174ba038569a7a": {
          "model_module": "@jupyter-widgets/base",
          "model_name": "LayoutModel",
          "model_module_version": "1.2.0",
          "state": {
            "_model_module": "@jupyter-widgets/base",
            "_model_module_version": "1.2.0",
            "_model_name": "LayoutModel",
            "_view_count": null,
            "_view_module": "@jupyter-widgets/base",
            "_view_module_version": "1.2.0",
            "_view_name": "LayoutView",
            "align_content": null,
            "align_items": null,
            "align_self": null,
            "border": null,
            "bottom": null,
            "display": null,
            "flex": null,
            "flex_flow": null,
            "grid_area": null,
            "grid_auto_columns": null,
            "grid_auto_flow": null,
            "grid_auto_rows": null,
            "grid_column": null,
            "grid_gap": null,
            "grid_row": null,
            "grid_template_areas": null,
            "grid_template_columns": null,
            "grid_template_rows": null,
            "height": null,
            "justify_content": null,
            "justify_items": null,
            "left": null,
            "margin": null,
            "max_height": null,
            "max_width": null,
            "min_height": null,
            "min_width": null,
            "object_fit": null,
            "object_position": null,
            "order": null,
            "overflow": null,
            "overflow_x": null,
            "overflow_y": null,
            "padding": null,
            "right": null,
            "top": null,
            "visibility": null,
            "width": null
          }
        },
        "6fcf03feab034ae0b164b416b65cbd61": {
          "model_module": "@jupyter-widgets/base",
          "model_name": "LayoutModel",
          "model_module_version": "1.2.0",
          "state": {
            "_model_module": "@jupyter-widgets/base",
            "_model_module_version": "1.2.0",
            "_model_name": "LayoutModel",
            "_view_count": null,
            "_view_module": "@jupyter-widgets/base",
            "_view_module_version": "1.2.0",
            "_view_name": "LayoutView",
            "align_content": null,
            "align_items": null,
            "align_self": null,
            "border": null,
            "bottom": null,
            "display": null,
            "flex": null,
            "flex_flow": null,
            "grid_area": null,
            "grid_auto_columns": null,
            "grid_auto_flow": null,
            "grid_auto_rows": null,
            "grid_column": null,
            "grid_gap": null,
            "grid_row": null,
            "grid_template_areas": null,
            "grid_template_columns": null,
            "grid_template_rows": null,
            "height": null,
            "justify_content": null,
            "justify_items": null,
            "left": null,
            "margin": null,
            "max_height": null,
            "max_width": null,
            "min_height": null,
            "min_width": null,
            "object_fit": null,
            "object_position": null,
            "order": null,
            "overflow": null,
            "overflow_x": null,
            "overflow_y": null,
            "padding": null,
            "right": null,
            "top": null,
            "visibility": null,
            "width": null
          }
        },
        "17aea16a95f742f4aec1442b936ce8f5": {
          "model_module": "@jupyter-widgets/controls",
          "model_name": "DescriptionStyleModel",
          "model_module_version": "1.5.0",
          "state": {
            "_model_module": "@jupyter-widgets/controls",
            "_model_module_version": "1.5.0",
            "_model_name": "DescriptionStyleModel",
            "_view_count": null,
            "_view_module": "@jupyter-widgets/base",
            "_view_module_version": "1.2.0",
            "_view_name": "StyleView",
            "description_width": ""
          }
        },
        "c218ae289c834280a327ec5a6cf84432": {
          "model_module": "@jupyter-widgets/base",
          "model_name": "LayoutModel",
          "model_module_version": "1.2.0",
          "state": {
            "_model_module": "@jupyter-widgets/base",
            "_model_module_version": "1.2.0",
            "_model_name": "LayoutModel",
            "_view_count": null,
            "_view_module": "@jupyter-widgets/base",
            "_view_module_version": "1.2.0",
            "_view_name": "LayoutView",
            "align_content": null,
            "align_items": null,
            "align_self": null,
            "border": null,
            "bottom": null,
            "display": null,
            "flex": null,
            "flex_flow": null,
            "grid_area": null,
            "grid_auto_columns": null,
            "grid_auto_flow": null,
            "grid_auto_rows": null,
            "grid_column": null,
            "grid_gap": null,
            "grid_row": null,
            "grid_template_areas": null,
            "grid_template_columns": null,
            "grid_template_rows": null,
            "height": null,
            "justify_content": null,
            "justify_items": null,
            "left": null,
            "margin": null,
            "max_height": null,
            "max_width": null,
            "min_height": null,
            "min_width": null,
            "object_fit": null,
            "object_position": null,
            "order": null,
            "overflow": null,
            "overflow_x": null,
            "overflow_y": null,
            "padding": null,
            "right": null,
            "top": null,
            "visibility": null,
            "width": null
          }
        },
        "e8bc049c349c47ecb287e921970df1c7": {
          "model_module": "@jupyter-widgets/controls",
          "model_name": "ProgressStyleModel",
          "model_module_version": "1.5.0",
          "state": {
            "_model_module": "@jupyter-widgets/controls",
            "_model_module_version": "1.5.0",
            "_model_name": "ProgressStyleModel",
            "_view_count": null,
            "_view_module": "@jupyter-widgets/base",
            "_view_module_version": "1.2.0",
            "_view_name": "StyleView",
            "bar_color": null,
            "description_width": ""
          }
        },
        "23b2e87fdbce4720a3c55e6b7a0cb87c": {
          "model_module": "@jupyter-widgets/base",
          "model_name": "LayoutModel",
          "model_module_version": "1.2.0",
          "state": {
            "_model_module": "@jupyter-widgets/base",
            "_model_module_version": "1.2.0",
            "_model_name": "LayoutModel",
            "_view_count": null,
            "_view_module": "@jupyter-widgets/base",
            "_view_module_version": "1.2.0",
            "_view_name": "LayoutView",
            "align_content": null,
            "align_items": null,
            "align_self": null,
            "border": null,
            "bottom": null,
            "display": null,
            "flex": null,
            "flex_flow": null,
            "grid_area": null,
            "grid_auto_columns": null,
            "grid_auto_flow": null,
            "grid_auto_rows": null,
            "grid_column": null,
            "grid_gap": null,
            "grid_row": null,
            "grid_template_areas": null,
            "grid_template_columns": null,
            "grid_template_rows": null,
            "height": null,
            "justify_content": null,
            "justify_items": null,
            "left": null,
            "margin": null,
            "max_height": null,
            "max_width": null,
            "min_height": null,
            "min_width": null,
            "object_fit": null,
            "object_position": null,
            "order": null,
            "overflow": null,
            "overflow_x": null,
            "overflow_y": null,
            "padding": null,
            "right": null,
            "top": null,
            "visibility": null,
            "width": null
          }
        },
        "ed0a82f9a2784eb68ccc352a283a7ec7": {
          "model_module": "@jupyter-widgets/controls",
          "model_name": "DescriptionStyleModel",
          "model_module_version": "1.5.0",
          "state": {
            "_model_module": "@jupyter-widgets/controls",
            "_model_module_version": "1.5.0",
            "_model_name": "DescriptionStyleModel",
            "_view_count": null,
            "_view_module": "@jupyter-widgets/base",
            "_view_module_version": "1.2.0",
            "_view_name": "StyleView",
            "description_width": ""
          }
        },
        "e9e2b1a26ee749e0a9e72f999f4e30d2": {
          "model_module": "@jupyter-widgets/controls",
          "model_name": "HBoxModel",
          "model_module_version": "1.5.0",
          "state": {
            "_dom_classes": [],
            "_model_module": "@jupyter-widgets/controls",
            "_model_module_version": "1.5.0",
            "_model_name": "HBoxModel",
            "_view_count": null,
            "_view_module": "@jupyter-widgets/controls",
            "_view_module_version": "1.5.0",
            "_view_name": "HBoxView",
            "box_style": "",
            "children": [
              "IPY_MODEL_3ae0de4bd4f141d5b17cd2ee89ade509",
              "IPY_MODEL_c92dda1a76284d8eaf05c426fe912e17",
              "IPY_MODEL_ce8594ea132540038f1ae96db82a0667"
            ],
            "layout": "IPY_MODEL_81809b17cc694e43ab042399e1e338cf"
          }
        },
        "3ae0de4bd4f141d5b17cd2ee89ade509": {
          "model_module": "@jupyter-widgets/controls",
          "model_name": "HTMLModel",
          "model_module_version": "1.5.0",
          "state": {
            "_dom_classes": [],
            "_model_module": "@jupyter-widgets/controls",
            "_model_module_version": "1.5.0",
            "_model_name": "HTMLModel",
            "_view_count": null,
            "_view_module": "@jupyter-widgets/controls",
            "_view_module_version": "1.5.0",
            "_view_name": "HTMLView",
            "description": "",
            "description_tooltip": null,
            "layout": "IPY_MODEL_df22b5c9c12444e1b460efbe42b0af6c",
            "placeholder": "​",
            "style": "IPY_MODEL_73be61e2eed248188cb2b0d999fddaec",
            "value": "100%"
          }
        },
        "c92dda1a76284d8eaf05c426fe912e17": {
          "model_module": "@jupyter-widgets/controls",
          "model_name": "FloatProgressModel",
          "model_module_version": "1.5.0",
          "state": {
            "_dom_classes": [],
            "_model_module": "@jupyter-widgets/controls",
            "_model_module_version": "1.5.0",
            "_model_name": "FloatProgressModel",
            "_view_count": null,
            "_view_module": "@jupyter-widgets/controls",
            "_view_module_version": "1.5.0",
            "_view_name": "ProgressView",
            "bar_style": "success",
            "description": "",
            "description_tooltip": null,
            "layout": "IPY_MODEL_0067cf11792042839e441ab43fe93b82",
            "max": 5120,
            "min": 0,
            "orientation": "horizontal",
            "style": "IPY_MODEL_4582813d3f5348b6be0b8e049c9357b2",
            "value": 5120
          }
        },
        "ce8594ea132540038f1ae96db82a0667": {
          "model_module": "@jupyter-widgets/controls",
          "model_name": "HTMLModel",
          "model_module_version": "1.5.0",
          "state": {
            "_dom_classes": [],
            "_model_module": "@jupyter-widgets/controls",
            "_model_module_version": "1.5.0",
            "_model_name": "HTMLModel",
            "_view_count": null,
            "_view_module": "@jupyter-widgets/controls",
            "_view_module_version": "1.5.0",
            "_view_name": "HTMLView",
            "description": "",
            "description_tooltip": null,
            "layout": "IPY_MODEL_6b12bd42a2204601b8639ee1f0837a19",
            "placeholder": "​",
            "style": "IPY_MODEL_bf639f17407c4420a46d9daf5e342ab7",
            "value": " 5120/5120 [00:00&lt;00:00, 366058.75it/s]"
          }
        },
        "81809b17cc694e43ab042399e1e338cf": {
          "model_module": "@jupyter-widgets/base",
          "model_name": "LayoutModel",
          "model_module_version": "1.2.0",
          "state": {
            "_model_module": "@jupyter-widgets/base",
            "_model_module_version": "1.2.0",
            "_model_name": "LayoutModel",
            "_view_count": null,
            "_view_module": "@jupyter-widgets/base",
            "_view_module_version": "1.2.0",
            "_view_name": "LayoutView",
            "align_content": null,
            "align_items": null,
            "align_self": null,
            "border": null,
            "bottom": null,
            "display": null,
            "flex": null,
            "flex_flow": null,
            "grid_area": null,
            "grid_auto_columns": null,
            "grid_auto_flow": null,
            "grid_auto_rows": null,
            "grid_column": null,
            "grid_gap": null,
            "grid_row": null,
            "grid_template_areas": null,
            "grid_template_columns": null,
            "grid_template_rows": null,
            "height": null,
            "justify_content": null,
            "justify_items": null,
            "left": null,
            "margin": null,
            "max_height": null,
            "max_width": null,
            "min_height": null,
            "min_width": null,
            "object_fit": null,
            "object_position": null,
            "order": null,
            "overflow": null,
            "overflow_x": null,
            "overflow_y": null,
            "padding": null,
            "right": null,
            "top": null,
            "visibility": null,
            "width": null
          }
        },
        "df22b5c9c12444e1b460efbe42b0af6c": {
          "model_module": "@jupyter-widgets/base",
          "model_name": "LayoutModel",
          "model_module_version": "1.2.0",
          "state": {
            "_model_module": "@jupyter-widgets/base",
            "_model_module_version": "1.2.0",
            "_model_name": "LayoutModel",
            "_view_count": null,
            "_view_module": "@jupyter-widgets/base",
            "_view_module_version": "1.2.0",
            "_view_name": "LayoutView",
            "align_content": null,
            "align_items": null,
            "align_self": null,
            "border": null,
            "bottom": null,
            "display": null,
            "flex": null,
            "flex_flow": null,
            "grid_area": null,
            "grid_auto_columns": null,
            "grid_auto_flow": null,
            "grid_auto_rows": null,
            "grid_column": null,
            "grid_gap": null,
            "grid_row": null,
            "grid_template_areas": null,
            "grid_template_columns": null,
            "grid_template_rows": null,
            "height": null,
            "justify_content": null,
            "justify_items": null,
            "left": null,
            "margin": null,
            "max_height": null,
            "max_width": null,
            "min_height": null,
            "min_width": null,
            "object_fit": null,
            "object_position": null,
            "order": null,
            "overflow": null,
            "overflow_x": null,
            "overflow_y": null,
            "padding": null,
            "right": null,
            "top": null,
            "visibility": null,
            "width": null
          }
        },
        "73be61e2eed248188cb2b0d999fddaec": {
          "model_module": "@jupyter-widgets/controls",
          "model_name": "DescriptionStyleModel",
          "model_module_version": "1.5.0",
          "state": {
            "_model_module": "@jupyter-widgets/controls",
            "_model_module_version": "1.5.0",
            "_model_name": "DescriptionStyleModel",
            "_view_count": null,
            "_view_module": "@jupyter-widgets/base",
            "_view_module_version": "1.2.0",
            "_view_name": "StyleView",
            "description_width": ""
          }
        },
        "0067cf11792042839e441ab43fe93b82": {
          "model_module": "@jupyter-widgets/base",
          "model_name": "LayoutModel",
          "model_module_version": "1.2.0",
          "state": {
            "_model_module": "@jupyter-widgets/base",
            "_model_module_version": "1.2.0",
            "_model_name": "LayoutModel",
            "_view_count": null,
            "_view_module": "@jupyter-widgets/base",
            "_view_module_version": "1.2.0",
            "_view_name": "LayoutView",
            "align_content": null,
            "align_items": null,
            "align_self": null,
            "border": null,
            "bottom": null,
            "display": null,
            "flex": null,
            "flex_flow": null,
            "grid_area": null,
            "grid_auto_columns": null,
            "grid_auto_flow": null,
            "grid_auto_rows": null,
            "grid_column": null,
            "grid_gap": null,
            "grid_row": null,
            "grid_template_areas": null,
            "grid_template_columns": null,
            "grid_template_rows": null,
            "height": null,
            "justify_content": null,
            "justify_items": null,
            "left": null,
            "margin": null,
            "max_height": null,
            "max_width": null,
            "min_height": null,
            "min_width": null,
            "object_fit": null,
            "object_position": null,
            "order": null,
            "overflow": null,
            "overflow_x": null,
            "overflow_y": null,
            "padding": null,
            "right": null,
            "top": null,
            "visibility": null,
            "width": null
          }
        },
        "4582813d3f5348b6be0b8e049c9357b2": {
          "model_module": "@jupyter-widgets/controls",
          "model_name": "ProgressStyleModel",
          "model_module_version": "1.5.0",
          "state": {
            "_model_module": "@jupyter-widgets/controls",
            "_model_module_version": "1.5.0",
            "_model_name": "ProgressStyleModel",
            "_view_count": null,
            "_view_module": "@jupyter-widgets/base",
            "_view_module_version": "1.2.0",
            "_view_name": "StyleView",
            "bar_color": null,
            "description_width": ""
          }
        },
        "6b12bd42a2204601b8639ee1f0837a19": {
          "model_module": "@jupyter-widgets/base",
          "model_name": "LayoutModel",
          "model_module_version": "1.2.0",
          "state": {
            "_model_module": "@jupyter-widgets/base",
            "_model_module_version": "1.2.0",
            "_model_name": "LayoutModel",
            "_view_count": null,
            "_view_module": "@jupyter-widgets/base",
            "_view_module_version": "1.2.0",
            "_view_name": "LayoutView",
            "align_content": null,
            "align_items": null,
            "align_self": null,
            "border": null,
            "bottom": null,
            "display": null,
            "flex": null,
            "flex_flow": null,
            "grid_area": null,
            "grid_auto_columns": null,
            "grid_auto_flow": null,
            "grid_auto_rows": null,
            "grid_column": null,
            "grid_gap": null,
            "grid_row": null,
            "grid_template_areas": null,
            "grid_template_columns": null,
            "grid_template_rows": null,
            "height": null,
            "justify_content": null,
            "justify_items": null,
            "left": null,
            "margin": null,
            "max_height": null,
            "max_width": null,
            "min_height": null,
            "min_width": null,
            "object_fit": null,
            "object_position": null,
            "order": null,
            "overflow": null,
            "overflow_x": null,
            "overflow_y": null,
            "padding": null,
            "right": null,
            "top": null,
            "visibility": null,
            "width": null
          }
        },
        "bf639f17407c4420a46d9daf5e342ab7": {
          "model_module": "@jupyter-widgets/controls",
          "model_name": "DescriptionStyleModel",
          "model_module_version": "1.5.0",
          "state": {
            "_model_module": "@jupyter-widgets/controls",
            "_model_module_version": "1.5.0",
            "_model_name": "DescriptionStyleModel",
            "_view_count": null,
            "_view_module": "@jupyter-widgets/base",
            "_view_module_version": "1.2.0",
            "_view_name": "StyleView",
            "description_width": ""
          }
        }
      }
    }
  },
  "cells": [
    {
      "cell_type": "markdown",
      "source": [
        "#**Import the necessary packages**"
      ],
      "metadata": {
        "id": "qkzEBdcD3BRq"
      }
    },
    {
      "cell_type": "code",
      "source": [
        "import torch\n",
        "import tensorflow_datasets as tfds\n",
        "from sklearn.model_selection import train_test_split"
      ],
      "metadata": {
        "id": "dM-jay923zDH"
      },
      "execution_count": null,
      "outputs": []
    },
    {
      "cell_type": "code",
      "source": [
        "import torchvision\n",
        "from torchvision import transforms as T\n",
        "from matplotlib import pyplot as plt"
      ],
      "metadata": {
        "id": "h5aLBvC5z3kK"
      },
      "execution_count": null,
      "outputs": []
    },
    {
      "cell_type": "code",
      "source": [
        "from torch import nn\n",
        "from torch.nn import functional as F"
      ],
      "metadata": {
        "id": "g3fVQdpkKkxM"
      },
      "execution_count": null,
      "outputs": []
    },
    {
      "cell_type": "code",
      "source": [
        "import functorch as fc\n",
        "from functorch import jvp\n",
        "from functools import partial"
      ],
      "metadata": {
        "id": "M29moBPxQL_g"
      },
      "execution_count": null,
      "outputs": []
    },
    {
      "cell_type": "code",
      "source": [
        "import time"
      ],
      "metadata": {
        "id": "0NmFS6q0Kq5Q"
      },
      "execution_count": null,
      "outputs": []
    },
    {
      "cell_type": "markdown",
      "source": [
        "# **Loading and preprocessing the data**"
      ],
      "metadata": {
        "id": "w_w7gA2P5bQz"
      }
    },
    {
      "cell_type": "code",
      "source": [
        "#Load the dataset\n",
        "train_data = torchvision.datasets.KMNIST('./data', train=True, download=True)"
      ],
      "metadata": {
        "id": "YNmPBpfS3FYq",
        "colab": {
          "base_uri": "https://localhost:8080/",
          "height": 423,
          "referenced_widgets": [
            "77c4a074ff824e1c963013d58b6307f2",
            "3dcbb15cb4dc4b10bcabcfffa9973185",
            "598f66674f064b86b2e5aa8cea8b110a",
            "14b313ddb78340a88bb31f413621506e",
            "ab0fb2fc3d914b58921a7cbb54eca9db",
            "577794f9cc754b22b44eaec2576343df",
            "e1a50f84c6ee4514baf3eca043a68060",
            "363c8cbba87b42a59f6cac1705f1e2cb",
            "c49af0ac98614218ac79eb6d84fe4c57",
            "022b34c4b09744d08f842f8795cc743e",
            "076066a49f7440b6a7ca946ef84a708a",
            "de4d577f419c467ba41c35dd4b36419c",
            "5abc4574bd9e4ce3857b22475d80dcfc",
            "fbd64e23c2e54e709a85d69d5721a98f",
            "35cb54541c3e43a78dcddd6d96e2753c",
            "7b7aa71ce78048eca8496f0439953b3b",
            "8a951518f1d24326b5c91217aec9f289",
            "e1d348771cd34616ba944b695e21ce62",
            "1b1a92bcac644c54b725f70d96f52549",
            "3a8d54d2b4c2487786b85cf67314b42c",
            "835d9bfb9791437785bd1b37bb62f12e",
            "fafce1a2ba4e45039d109b5d42f72c88",
            "e1f1dcd453b14804a5186c32253201f6",
            "f2f52fafec8d43b5804c3350d8916cba",
            "47d749b61fd74e2fa1fec2797c234b02",
            "653b3feb41514bc4887ebe9cfcbcda52",
            "80a32b2adfb74bb59c174ba038569a7a",
            "6fcf03feab034ae0b164b416b65cbd61",
            "17aea16a95f742f4aec1442b936ce8f5",
            "c218ae289c834280a327ec5a6cf84432",
            "e8bc049c349c47ecb287e921970df1c7",
            "23b2e87fdbce4720a3c55e6b7a0cb87c",
            "ed0a82f9a2784eb68ccc352a283a7ec7",
            "e9e2b1a26ee749e0a9e72f999f4e30d2",
            "3ae0de4bd4f141d5b17cd2ee89ade509",
            "c92dda1a76284d8eaf05c426fe912e17",
            "ce8594ea132540038f1ae96db82a0667",
            "81809b17cc694e43ab042399e1e338cf",
            "df22b5c9c12444e1b460efbe42b0af6c",
            "73be61e2eed248188cb2b0d999fddaec",
            "0067cf11792042839e441ab43fe93b82",
            "4582813d3f5348b6be0b8e049c9357b2",
            "6b12bd42a2204601b8639ee1f0837a19",
            "bf639f17407c4420a46d9daf5e342ab7"
          ]
        },
        "outputId": "ee6bf561-9a40-41b7-bf87-49ed3939ad1e"
      },
      "execution_count": null,
      "outputs": [
        {
          "output_type": "stream",
          "name": "stdout",
          "text": [
            "Downloading http://codh.rois.ac.jp/kmnist/dataset/kmnist/train-images-idx3-ubyte.gz\n",
            "Downloading http://codh.rois.ac.jp/kmnist/dataset/kmnist/train-images-idx3-ubyte.gz to ./data/KMNIST/raw/train-images-idx3-ubyte.gz\n"
          ]
        },
        {
          "output_type": "display_data",
          "data": {
            "text/plain": [
              "  0%|          | 0/18165135 [00:00<?, ?it/s]"
            ],
            "application/vnd.jupyter.widget-view+json": {
              "version_major": 2,
              "version_minor": 0,
              "model_id": "77c4a074ff824e1c963013d58b6307f2"
            }
          },
          "metadata": {}
        },
        {
          "output_type": "stream",
          "name": "stdout",
          "text": [
            "Extracting ./data/KMNIST/raw/train-images-idx3-ubyte.gz to ./data/KMNIST/raw\n",
            "\n",
            "Downloading http://codh.rois.ac.jp/kmnist/dataset/kmnist/train-labels-idx1-ubyte.gz\n",
            "Downloading http://codh.rois.ac.jp/kmnist/dataset/kmnist/train-labels-idx1-ubyte.gz to ./data/KMNIST/raw/train-labels-idx1-ubyte.gz\n"
          ]
        },
        {
          "output_type": "display_data",
          "data": {
            "text/plain": [
              "  0%|          | 0/29497 [00:00<?, ?it/s]"
            ],
            "application/vnd.jupyter.widget-view+json": {
              "version_major": 2,
              "version_minor": 0,
              "model_id": "de4d577f419c467ba41c35dd4b36419c"
            }
          },
          "metadata": {}
        },
        {
          "output_type": "stream",
          "name": "stdout",
          "text": [
            "Extracting ./data/KMNIST/raw/train-labels-idx1-ubyte.gz to ./data/KMNIST/raw\n",
            "\n",
            "Downloading http://codh.rois.ac.jp/kmnist/dataset/kmnist/t10k-images-idx3-ubyte.gz\n",
            "Downloading http://codh.rois.ac.jp/kmnist/dataset/kmnist/t10k-images-idx3-ubyte.gz to ./data/KMNIST/raw/t10k-images-idx3-ubyte.gz\n"
          ]
        },
        {
          "output_type": "display_data",
          "data": {
            "text/plain": [
              "  0%|          | 0/3041136 [00:00<?, ?it/s]"
            ],
            "application/vnd.jupyter.widget-view+json": {
              "version_major": 2,
              "version_minor": 0,
              "model_id": "e1f1dcd453b14804a5186c32253201f6"
            }
          },
          "metadata": {}
        },
        {
          "output_type": "stream",
          "name": "stdout",
          "text": [
            "Extracting ./data/KMNIST/raw/t10k-images-idx3-ubyte.gz to ./data/KMNIST/raw\n",
            "\n",
            "Downloading http://codh.rois.ac.jp/kmnist/dataset/kmnist/t10k-labels-idx1-ubyte.gz\n",
            "Downloading http://codh.rois.ac.jp/kmnist/dataset/kmnist/t10k-labels-idx1-ubyte.gz to ./data/KMNIST/raw/t10k-labels-idx1-ubyte.gz\n"
          ]
        },
        {
          "output_type": "display_data",
          "data": {
            "text/plain": [
              "  0%|          | 0/5120 [00:00<?, ?it/s]"
            ],
            "application/vnd.jupyter.widget-view+json": {
              "version_major": 2,
              "version_minor": 0,
              "model_id": "e9e2b1a26ee749e0a9e72f999f4e30d2"
            }
          },
          "metadata": {}
        },
        {
          "output_type": "stream",
          "name": "stdout",
          "text": [
            "Extracting ./data/KMNIST/raw/t10k-labels-idx1-ubyte.gz to ./data/KMNIST/raw\n",
            "\n"
          ]
        }
      ]
    },
    {
      "cell_type": "code",
      "source": [
        "# This loads data with data conversion.\n",
        "train_data = torchvision.datasets.KMNIST('./data', train=True, transform=T.ToTensor())"
      ],
      "metadata": {
        "id": "SLtrWriJ07-S"
      },
      "execution_count": null,
      "outputs": []
    },
    {
      "cell_type": "code",
      "source": [
        "# We visualize the first sample of the dataset\n",
        "plt.imshow(train_data.data[0])\n",
        "print(train_data.targets[0])"
      ],
      "metadata": {
        "id": "jVI_A1TvK_RO",
        "outputId": "02fc6d12-f209-4984-b510-227fa041ceb8",
        "colab": {
          "base_uri": "https://localhost:8080/",
          "height": 282
        }
      },
      "execution_count": null,
      "outputs": [
        {
          "output_type": "stream",
          "name": "stdout",
          "text": [
            "tensor(8)\n"
          ]
        },
        {
          "output_type": "display_data",
          "data": {
            "text/plain": [
              "<Figure size 432x288 with 1 Axes>"
            ],
            "image/png": "[encoded data removed]"
          },
          "metadata": {
            "needs_background": "light"
          }
        }
      ]
    },
    {
      "cell_type": "code",
      "source": [
        "# We use the loader to shuffle the elements of the dataset\n",
        "train_loader = torch.utils.data.DataLoader(train_data, shuffle=True)"
      ],
      "metadata": {
        "id": "L9a4PEGN0SUD"
      },
      "execution_count": null,
      "outputs": []
    },
    {
      "cell_type": "code",
      "source": [
        "# We get the first element of the loader\n",
        "xb, yb = next(iter(train_loader))"
      ],
      "metadata": {
        "id": "0HkrrE4f0f7K"
      },
      "execution_count": null,
      "outputs": []
    },
    {
      "cell_type": "code",
      "source": [
        "# Load the testset\n",
        "test_data = torchvision.datasets.KMNIST('./data', train=False, transform=T.ToTensor())\n",
        "test_loader = torch.utils.data.DataLoader(test_data, shuffle=True)"
      ],
      "metadata": {
        "id": "-acBNiYh1KxY"
      },
      "execution_count": null,
      "outputs": []
    },
    {
      "cell_type": "markdown",
      "source": [
        "# **Define Convolutional Neural Network**"
      ],
      "metadata": {
        "id": "T55GS3b95kKE"
      }
    },
    {
      "cell_type": "code",
      "source": [
        "class SimpleCNN(nn.Module):\n",
        "    def __init__(self, input_size):\n",
        "        super().__init__()\n",
        "        self.conv1 = nn.Conv2d(input_size, 2, 3, padding=1)\n",
        "\n",
        "        self.conv2 = nn.Conv2d(2, 4, 3, padding=1)\n",
        "\n",
        "        self.max_pool = nn.MaxPool2d(2)\n",
        "        self.fc1 = nn.Linear(4*14*14, 64)\n",
        "\n",
        "        self.fc2 = nn.Linear(64, 10)\n",
        "\n",
        "    def forward(self, x):\n",
        "        x = F.relu(self.conv1(x))\n",
        "        x = F.relu(self.conv2(x))\n",
        "        x = self.max_pool(x)\n",
        "        x = x.reshape((-1, 4*14*14))\n",
        "        x = F.relu(self.fc1(x))\n",
        "        x = self.fc2(x)\n",
        "        x = x.reshape(1, -1)\n",
        "        return torch.softmax(x, 1)"
      ],
      "metadata": {
        "id": "ssgUZF_S8gmM"
      },
      "execution_count": null,
      "outputs": []
    },
    {
      "cell_type": "code",
      "source": [
        "# We check if CUDA is available\n",
        "device = 'cuda' if torch.cuda.is_available() else 'cpu'\n",
        "print(device)"
      ],
      "metadata": {
        "colab": {
          "base_uri": "https://localhost:8080/"
        },
        "id": "ZZ9BguV01cPi",
        "outputId": "52e18cc9-c277-4299-e4fc-8528c2290974"
      },
      "execution_count": null,
      "outputs": [
        {
          "output_type": "stream",
          "name": "stdout",
          "text": [
            "cuda\n"
          ]
        }
      ]
    },
    {
      "cell_type": "markdown",
      "source": [
        "# **Initialize the parameters**"
      ],
      "metadata": {
        "id": "jgPnXQqq54pa"
      }
    },
    {
      "cell_type": "code",
      "source": [
        "# We initialize the parameters randomly and the model with an input size\n",
        "#conv1w = torch.FloatTensor(8, 1, 3, 3).uniform_(-1, 1)\n",
        "#conv1b = torch.randint(-1, 1, (8, ), dtype=torch.float32, requires_grad=False)\n",
        "#conv2w = torch.randint(-1, 1, (16, 8, 3, 3), dtype=torch.float32, requires_grad=False)\n",
        "#conv2b = torch.randint(-1, 1, (16, ), dtype=torch.float32, requires_grad=False)\n",
        "#fc1w = torch.randint(-1, 1, (1024, 3136), dtype=torch.float32, requires_grad=False)\n",
        "#fc1b = torch.randint(-1, 1, (1024, ), dtype=torch.float32, requires_grad=False)\n",
        "#fc2w = torch.randint(-1, 1, (10, 1024), dtype=torch.float32, requires_grad=False)\n",
        "#fc2b = torch.randint(-1, 1, (10, ), dtype=torch.float32, requires_grad=False)\n",
        "cnn = SimpleCNN(1)"
      ],
      "metadata": {
        "id": "Exuz9TVC3ReH"
      },
      "execution_count": null,
      "outputs": []
    },
    {
      "cell_type": "code",
      "source": [
        " # Get the functional version of the model with functorch\n",
        "fcnn, params = fc.make_functional(cnn)\n",
        "fcnn(params, xb)"
      ],
      "metadata": {
        "id": "sfvgncI2QCnx",
        "outputId": "5597399f-762c-4e52-d51b-184249560229",
        "colab": {
          "base_uri": "https://localhost:8080/"
        }
      },
      "execution_count": null,
      "outputs": [
        {
          "output_type": "execute_result",
          "data": {
            "text/plain": [
              "tensor([[0.0908, 0.0978, 0.1158, 0.0950, 0.1036, 0.0965, 0.0946, 0.0927, 0.1097,\n",
              "         0.1036]], grad_fn=<SoftmaxBackward0>)"
            ]
          },
          "metadata": {},
          "execution_count": 15
        }
      ]
    },
    {
      "cell_type": "code",
      "source": [
        "# We try our model with the first example\n",
        "print(cnn(xb)[0])"
      ],
      "metadata": {
        "colab": {
          "base_uri": "https://localhost:8080/"
        },
        "id": "oBOLO2Ee3ZwE",
        "outputId": "c62cfb11-89ae-4963-f411-644447215266"
      },
      "execution_count": null,
      "outputs": [
        {
          "output_type": "stream",
          "name": "stdout",
          "text": [
            "tensor([0.0908, 0.0978, 0.1158, 0.0950, 0.1036, 0.0965, 0.0946, 0.0927, 0.1097,\n",
            "        0.1036], grad_fn=<SelectBackward0>)\n"
          ]
        }
      ]
    },
    {
      "cell_type": "markdown",
      "source": [
        "Calculate predictions"
      ],
      "metadata": {
        "id": "Wm-hZ3wXTHfV"
      }
    },
    {
      "cell_type": "code",
      "source": [
        "def pred(sample_size, loader, model):\n",
        "  Xtrain = torch.randn(sample_size, 1, 28, 28)\n",
        "  ytrain = torch.randn(sample_size)\n",
        "  ypred = torch.randn(sample_size, 10)\n",
        "\n",
        "  for i in range(sample_size):\n",
        "    xb, yb = next(iter(loader))\n",
        "    Xtrain[i] = xb\n",
        "    ytrain[i] = yb\n",
        "    ypred[i] = model(xb)\n",
        "\n",
        "  return Xtrain, ytrain, ypred"
      ],
      "metadata": {
        "id": "00df8WdlTNHG"
      },
      "execution_count": null,
      "outputs": []
    },
    {
      "cell_type": "code",
      "source": [
        "Xtrain, ytrain, ypred= pred(500, train_loader, cnn)"
      ],
      "metadata": {
        "id": "s1JIt95nWEeM"
      },
      "execution_count": null,
      "outputs": []
    },
    {
      "cell_type": "markdown",
      "source": [
        "# **Define accuracy**"
      ],
      "metadata": {
        "id": "TIaVzpBW5th5"
      }
    },
    {
      "cell_type": "code",
      "source": [
        "def accuracy(ytrue, ypred):\n",
        "  return (ypred.argmax(1) == ytrue.long()).float().mean()"
      ],
      "metadata": {
        "id": "oY45ByC93hg7"
      },
      "execution_count": null,
      "outputs": []
    },
    {
      "cell_type": "code",
      "source": [
        "# Average accuracy at initialization is 10% (random guessing).\n",
        "accuracy(ytrain, ypred)"
      ],
      "metadata": {
        "colab": {
          "base_uri": "https://localhost:8080/"
        },
        "id": "rNh5yF2Q53Tv",
        "outputId": "8935317a-1436-4a85-a111-e72cd2e9868e"
      },
      "execution_count": null,
      "outputs": [
        {
          "output_type": "execute_result",
          "data": {
            "text/plain": [
              "tensor(0.1120)"
            ]
          },
          "metadata": {},
          "execution_count": 20
        }
      ]
    },
    {
      "cell_type": "markdown",
      "source": [
        "# **Define Cross-Entropy**"
      ],
      "metadata": {
        "id": "vYbOZm8oUoTM"
      }
    },
    {
      "cell_type": "code",
      "source": [
        "def cross_entropy(params, fmodel, ytrue, x):\n",
        "  ypred=torch.randn((ytrue.shape[0],10))\n",
        "  for j in range(ytrue.shape[0]):\n",
        "    ypred[j] = fmodel(params, x[j])\n",
        "  return - ypred[torch.arange(0, ypred.shape[0]), ytrue.long()].log().mean()"
      ],
      "metadata": {
        "id": "xDw2fEWZUslj"
      },
      "execution_count": null,
      "outputs": []
    },
    {
      "cell_type": "code",
      "source": [
        "print(cross_entropy(params, fcnn, ytrain, Xtrain))"
      ],
      "metadata": {
        "id": "9JLiJvzSV-_0",
        "outputId": "9c596013-cc6e-4e4e-df04-6da519b61d2a",
        "colab": {
          "base_uri": "https://localhost:8080/"
        }
      },
      "execution_count": null,
      "outputs": [
        {
          "output_type": "stream",
          "name": "stdout",
          "text": [
            "tensor(2.3042, grad_fn=<NegBackward0>)\n"
          ]
        }
      ]
    },
    {
      "cell_type": "markdown",
      "source": [
        "# **Other optimization functions**"
      ],
      "metadata": {
        "id": "2qZ3IMitSOpG"
      }
    },
    {
      "cell_type": "code",
      "source": [
        "def beale_function(x):\n",
        "  return (torch.pow(torch.tensor([1.5])-x[0]+x[0]*x[1],2) + torch.pow(torch.tensor([2.25])-x[0]+x[0]*torch.pow(x[1],2),2)+torch.pow(torch.tensor([2.625])-x[0]+x[0]*torch.pow(x[1],3),2))"
      ],
      "metadata": {
        "id": "1WtQ6zyjX6wD"
      },
      "execution_count": null,
      "outputs": []
    },
    {
      "cell_type": "code",
      "source": [
        "def rosenbrock_function(x):\n",
        "  sum=0\n",
        "  for p in x.size():\n",
        "    for i in range (x.size(1)-1):\n",
        "      sum += (100*torch.pow(x[i+1] - torch.pow(x[i], 2), 2) + torch.pow(x[i]-1, 2))\n",
        "  return sum"
      ],
      "metadata": {
        "id": "KsZbhrFnAoK5"
      },
      "execution_count": null,
      "outputs": []
    },
    {
      "cell_type": "markdown",
      "source": [
        "# **Train and evaluate the network**"
      ],
      "metadata": {
        "id": "U12SFrBjSSmD"
      }
    },
    {
      "cell_type": "code",
      "source": [
        "def train_fwd_gradient(train_loader):\n",
        "\n",
        "  l_rate0 = 0.001\n",
        "\n",
        "  losses=[]\n",
        "  accuracies=[]\n",
        "\n",
        "  cnn = SimpleCNN(1)\n",
        "  fcnn, params = fc.make_functional(cnn)\n",
        "  Xtrain, ytrain, ypred = pred(500, train_loader, cnn)\n",
        "\n",
        "  Xtest, ytest, ypredtest = pred(100, test_loader, cnn)\n",
        "\n",
        "\n",
        "  loss = cross_entropy(params, fcnn, ytrain, Xtrain)\n",
        "  t=0\n",
        "  t0 = time.time()\n",
        "\n",
        "  for epoch in range (100):\n",
        "\n",
        "    v = tuple([torch.randn_like(p) for p in params])\n",
        "\n",
        "    g = partial(cross_entropy, fmodel = fcnn, ytrue=ytrain, x=Xtrain)\n",
        "\n",
        "    loss, dt = jvp(g, (params, ), (v, ))\n",
        "\n",
        "    with torch.no_grad():\n",
        "      for j, p in enumerate(params):\n",
        "        gt = v[j]*dt\n",
        "        p -= l_rate0*gt\n",
        "\n",
        "    Xtest, ytest, ypredtest = pred(100, test_loader, cnn)\n",
        "    accuracies.append(accuracy(ytest,ypredtest).item())\n",
        "    losses.append(cross_entropy(params,fcnn,ytest,Xtest).item())\n",
        "\n",
        "    # We add the execution time of the iteration\n",
        "    t1=time.time()\n",
        "    t+=t1-t0\n",
        "    t0=t1\n",
        "\n",
        "    print('Time', t, 'loss', loss)\n",
        "\n",
        "  print('Final execution time', t)\n",
        "  print('Mean execution time of an iteration', t/100)\n",
        "\n",
        "  return params,losses,accuracies"
      ],
      "metadata": {
        "id": "1xtc8O-2D8YJ"
      },
      "execution_count": null,
      "outputs": []
    },
    {
      "cell_type": "code",
      "source": [
        "params,losses,accuracies = train_fwd_gradient(train_loader)"
      ],
      "metadata": {
        "id": "oc0xWYUkZTf9",
        "outputId": "890ab231-fbb2-4f3d-8d5f-63495675559a",
        "colab": {
          "base_uri": "https://localhost:8080/"
        }
      },
      "execution_count": null,
      "outputs": [
        {
          "output_type": "stream",
          "name": "stdout",
          "text": [
            "Time 0.9857535362243652 loss tensor(2.3071, grad_fn=<AliasBackward0>)\n",
            "Time 2.0013954639434814 loss tensor(2.3071, grad_fn=<AliasBackward0>)\n",
            "Time 3.2885704040527344 loss tensor(2.3071, grad_fn=<AliasBackward0>)\n",
            "Time 4.415286540985107 loss tensor(2.3070, grad_fn=<AliasBackward0>)\n",
            "Time 5.296415090560913 loss tensor(2.3070, grad_fn=<AliasBackward0>)\n",
            "Time 6.168417692184448 loss tensor(2.3070, grad_fn=<AliasBackward0>)\n",
            "Time 7.03391432762146 loss tensor(2.3070, grad_fn=<AliasBackward0>)\n",
            "Time 7.965606927871704 loss tensor(2.3070, grad_fn=<AliasBackward0>)\n",
            "Time 8.83553671836853 loss tensor(2.3070, grad_fn=<AliasBackward0>)\n",
            "Time 9.716277122497559 loss tensor(2.3070, grad_fn=<AliasBackward0>)\n",
            "Time 11.239646911621094 loss tensor(2.3069, grad_fn=<AliasBackward0>)\n",
            "Time 12.42868947982788 loss tensor(2.3069, grad_fn=<AliasBackward0>)\n",
            "Time 13.326557636260986 loss tensor(2.3069, grad_fn=<AliasBackward0>)\n",
            "Time 14.31669545173645 loss tensor(2.3069, grad_fn=<AliasBackward0>)\n",
            "Time 15.675814151763916 loss tensor(2.3069, grad_fn=<AliasBackward0>)\n",
            "Time 16.820170402526855 loss tensor(2.3069, grad_fn=<AliasBackward0>)\n",
            "Time 17.740854263305664 loss tensor(2.3069, grad_fn=<AliasBackward0>)\n",
            "Time 18.659766912460327 loss tensor(2.3069, grad_fn=<AliasBackward0>)\n",
            "Time 19.558654069900513 loss tensor(2.3069, grad_fn=<AliasBackward0>)\n",
            "Time 20.459640741348267 loss tensor(2.3069, grad_fn=<AliasBackward0>)\n",
            "Time 21.354515552520752 loss tensor(2.3069, grad_fn=<AliasBackward0>)\n",
            "Time 22.30179452896118 loss tensor(2.3069, grad_fn=<AliasBackward0>)\n",
            "Time 23.224987745285034 loss tensor(2.3069, grad_fn=<AliasBackward0>)\n",
            "Time 24.09729814529419 loss tensor(2.3069, grad_fn=<AliasBackward0>)\n",
            "Time 24.994513750076294 loss tensor(2.3069, grad_fn=<AliasBackward0>)\n",
            "Time 25.895986318588257 loss tensor(2.3069, grad_fn=<AliasBackward0>)\n",
            "Time 26.982959985733032 loss tensor(2.3069, grad_fn=<AliasBackward0>)\n",
            "Time 28.293859720230103 loss tensor(2.3069, grad_fn=<AliasBackward0>)\n",
            "Time 29.40816593170166 loss tensor(2.3069, grad_fn=<AliasBackward0>)\n",
            "Time 30.299867868423462 loss tensor(2.3069, grad_fn=<AliasBackward0>)\n",
            "Time 31.216389894485474 loss tensor(2.3069, grad_fn=<AliasBackward0>)\n",
            "Time 32.09731316566467 loss tensor(2.3069, grad_fn=<AliasBackward0>)\n",
            "Time 33.36046624183655 loss tensor(2.3069, grad_fn=<AliasBackward0>)\n",
            "Time 34.6376531124115 loss tensor(2.3068, grad_fn=<AliasBackward0>)\n",
            "Time 35.871237993240356 loss tensor(2.3068, grad_fn=<AliasBackward0>)\n",
            "Time 36.76214575767517 loss tensor(2.3068, grad_fn=<AliasBackward0>)\n",
            "Time 37.66217637062073 loss tensor(2.3068, grad_fn=<AliasBackward0>)\n",
            "Time 38.55662298202515 loss tensor(2.3068, grad_fn=<AliasBackward0>)\n",
            "Time 39.71449255943298 loss tensor(2.3068, grad_fn=<AliasBackward0>)\n",
            "Time 41.04649901390076 loss tensor(2.3067, grad_fn=<AliasBackward0>)\n",
            "Time 42.05209136009216 loss tensor(2.3067, grad_fn=<AliasBackward0>)\n",
            "Time 42.97938942909241 loss tensor(2.3067, grad_fn=<AliasBackward0>)\n",
            "Time 43.85421442985535 loss tensor(2.3067, grad_fn=<AliasBackward0>)\n",
            "Time 44.73986864089966 loss tensor(2.3067, grad_fn=<AliasBackward0>)\n",
            "Time 45.617706060409546 loss tensor(2.3067, grad_fn=<AliasBackward0>)\n",
            "Time 46.51766610145569 loss tensor(2.3067, grad_fn=<AliasBackward0>)\n",
            "Time 47.45852470397949 loss tensor(2.3067, grad_fn=<AliasBackward0>)\n",
            "Time 48.370819330215454 loss tensor(2.3067, grad_fn=<AliasBackward0>)\n",
            "Time 49.283085346221924 loss tensor(2.3067, grad_fn=<AliasBackward0>)\n",
            "Time 50.18571472167969 loss tensor(2.3067, grad_fn=<AliasBackward0>)\n",
            "Time 51.067407846450806 loss tensor(2.3067, grad_fn=<AliasBackward0>)\n",
            "Time 52.26886701583862 loss tensor(2.3067, grad_fn=<AliasBackward0>)\n",
            "Time 53.60021948814392 loss tensor(2.3067, grad_fn=<AliasBackward0>)\n",
            "Time 54.54468894004822 loss tensor(2.3067, grad_fn=<AliasBackward0>)\n",
            "Time 55.45352530479431 loss tensor(2.3067, grad_fn=<AliasBackward0>)\n",
            "Time 56.33983540534973 loss tensor(2.3067, grad_fn=<AliasBackward0>)\n",
            "Time 57.23223567008972 loss tensor(2.3067, grad_fn=<AliasBackward0>)\n",
            "Time 58.12154817581177 loss tensor(2.3067, grad_fn=<AliasBackward0>)\n",
            "Time 59.00072884559631 loss tensor(2.3067, grad_fn=<AliasBackward0>)\n",
            "Time 59.91208481788635 loss tensor(2.3066, grad_fn=<AliasBackward0>)\n",
            "Time 60.83674502372742 loss tensor(2.3066, grad_fn=<AliasBackward0>)\n",
            "Time 61.73459458351135 loss tensor(2.3066, grad_fn=<AliasBackward0>)\n",
            "Time 62.63040781021118 loss tensor(2.3066, grad_fn=<AliasBackward0>)\n",
            "Time 63.545154333114624 loss tensor(2.3066, grad_fn=<AliasBackward0>)\n",
            "Time 64.77394914627075 loss tensor(2.3066, grad_fn=<AliasBackward0>)\n",
            "Time 66.11150407791138 loss tensor(2.3066, grad_fn=<AliasBackward0>)\n",
            "Time 67.00484538078308 loss tensor(2.3066, grad_fn=<AliasBackward0>)\n",
            "Time 67.90984606742859 loss tensor(2.3066, grad_fn=<AliasBackward0>)\n",
            "Time 68.80686283111572 loss tensor(2.3066, grad_fn=<AliasBackward0>)\n",
            "Time 69.7067801952362 loss tensor(2.3066, grad_fn=<AliasBackward0>)\n",
            "Time 70.64983177185059 loss tensor(2.3066, grad_fn=<AliasBackward0>)\n",
            "Time 71.56673002243042 loss tensor(2.3066, grad_fn=<AliasBackward0>)\n",
            "Time 72.48167562484741 loss tensor(2.3066, grad_fn=<AliasBackward0>)\n",
            "Time 73.38921618461609 loss tensor(2.3066, grad_fn=<AliasBackward0>)\n",
            "Time 74.28132486343384 loss tensor(2.3066, grad_fn=<AliasBackward0>)\n",
            "Time 75.17449235916138 loss tensor(2.3066, grad_fn=<AliasBackward0>)\n",
            "Time 76.05935978889465 loss tensor(2.3066, grad_fn=<AliasBackward0>)\n",
            "Time 77.33057427406311 loss tensor(2.3065, grad_fn=<AliasBackward0>)\n",
            "Time 78.71200251579285 loss tensor(2.3065, grad_fn=<AliasBackward0>)\n",
            "Time 79.60686588287354 loss tensor(2.3065, grad_fn=<AliasBackward0>)\n",
            "Time 80.48436427116394 loss tensor(2.3065, grad_fn=<AliasBackward0>)\n",
            "Time 81.35426688194275 loss tensor(2.3065, grad_fn=<AliasBackward0>)\n",
            "Time 82.24025201797485 loss tensor(2.3065, grad_fn=<AliasBackward0>)\n",
            "Time 83.13275074958801 loss tensor(2.3065, grad_fn=<AliasBackward0>)\n",
            "Time 84.03803944587708 loss tensor(2.3065, grad_fn=<AliasBackward0>)\n",
            "Time 84.93915295600891 loss tensor(2.3065, grad_fn=<AliasBackward0>)\n",
            "Time 85.80915951728821 loss tensor(2.3065, grad_fn=<AliasBackward0>)\n",
            "Time 86.70587468147278 loss tensor(2.3065, grad_fn=<AliasBackward0>)\n",
            "Time 87.59357690811157 loss tensor(2.3065, grad_fn=<AliasBackward0>)\n",
            "Time 88.48237776756287 loss tensor(2.3065, grad_fn=<AliasBackward0>)\n",
            "Time 89.69797706604004 loss tensor(2.3065, grad_fn=<AliasBackward0>)\n",
            "Time 91.06309914588928 loss tensor(2.3065, grad_fn=<AliasBackward0>)\n",
            "Time 92.0154435634613 loss tensor(2.3064, grad_fn=<AliasBackward0>)\n",
            "Time 92.90187573432922 loss tensor(2.3064, grad_fn=<AliasBackward0>)\n",
            "Time 93.81437110900879 loss tensor(2.3064, grad_fn=<AliasBackward0>)\n",
            "Time 94.72809219360352 loss tensor(2.3064, grad_fn=<AliasBackward0>)\n",
            "Time 95.62741708755493 loss tensor(2.3064, grad_fn=<AliasBackward0>)\n",
            "Time 96.53568577766418 loss tensor(2.3064, grad_fn=<AliasBackward0>)\n",
            "Time 97.43850994110107 loss tensor(2.3064, grad_fn=<AliasBackward0>)\n",
            "Time 98.3376133441925 loss tensor(2.3064, grad_fn=<AliasBackward0>)\n",
            "Final execution time 98.3376133441925\n",
            "Mean execution time of an iteration 0.9833761334419251\n"
          ]
        }
      ]
    },
    {
      "cell_type": "code",
      "source": [
        "plt.plot(losses)"
      ],
      "metadata": {
        "id": "V3k3eeKL_TPX",
        "colab": {
          "base_uri": "https://localhost:8080/",
          "height": 282
        },
        "outputId": "5575a802-52a9-4d6c-fafd-b949505c6ef7"
      },
      "execution_count": null,
      "outputs": [
        {
          "output_type": "execute_result",
          "data": {
            "text/plain": [
              "[<matplotlib.lines.Line2D at 0x7fe6f15a5910>]"
            ]
          },
          "metadata": {},
          "execution_count": 27
        },
        {
          "output_type": "display_data",
          "data": {
            "text/plain": [
              "<Figure size 432x288 with 1 Axes>"
            ],
            "image/png": "[encoded data removed]"
          },
          "metadata": {
            "needs_background": "light"
          }
        }
      ]
    },
    {
      "cell_type": "code",
      "source": [
        "plt.plot(accuracies)"
      ],
      "metadata": {
        "colab": {
          "base_uri": "https://localhost:8080/",
          "height": 282
        },
        "id": "_LoB4yT_psdd",
        "outputId": "95e19a8b-f0be-4f23-b869-ccec4b5cf1d0"
      },
      "execution_count": null,
      "outputs": [
        {
          "output_type": "execute_result",
          "data": {
            "text/plain": [
              "[<matplotlib.lines.Line2D at 0x7fe6f151aaf0>]"
            ]
          },
          "metadata": {},
          "execution_count": 28
        },
        {
          "output_type": "display_data",
          "data": {
            "text/plain": [
              "<Figure size 432x288 with 1 Axes>"
            ],
            "image/png": "[encoded data removed]"
          },
          "metadata": {
            "needs_background": "light"
          }
        }
      ]
    }
  ]
}